{
 "cells": [
  {
   "cell_type": "code",
   "execution_count": 1,
   "id": "381b9b3e",
   "metadata": {
    "collapsed": true
   },
   "outputs": [
    {
     "name": "stdout",
     "output_type": "stream",
     "text": [
      "Requirement already satisfied: mysql-connector-python in c:\\users\\syed.mehmaam\\anaconda3\\lib\\site-packages (8.0.30)\n",
      "Collecting protobuf<=3.20.1,>=3.11.0\n",
      "  Downloading protobuf-3.20.1-cp39-cp39-win_amd64.whl (904 kB)\n",
      "     ------------------------------------ 904.1/904.1 kB 204.3 kB/s eta 0:00:00\n",
      "Installing collected packages: protobuf\n",
      "Successfully installed protobuf-3.20.1\n"
     ]
    },
    {
     "name": "stderr",
     "output_type": "stream",
     "text": [
      "WARNING: Retrying (Retry(total=4, connect=None, read=None, redirect=None, status=None)) after connection broken by 'NewConnectionError('<pip._vendor.urllib3.connection.HTTPSConnection object at 0x0000016559A055B0>: Failed to establish a new connection: [Errno 11002] getaddrinfo failed')': /simple/protobuf/\n",
      "WARNING: Retrying (Retry(total=3, connect=None, read=None, redirect=None, status=None)) after connection broken by 'NewConnectionError('<pip._vendor.urllib3.connection.HTTPSConnection object at 0x0000016559A058E0>: Failed to establish a new connection: [Errno 11002] getaddrinfo failed')': /simple/protobuf/\n",
      "WARNING: Retrying (Retry(total=2, connect=None, read=None, redirect=None, status=None)) after connection broken by 'NewConnectionError('<pip._vendor.urllib3.connection.HTTPSConnection object at 0x0000016559A05A90>: Failed to establish a new connection: [Errno 11002] getaddrinfo failed')': /simple/protobuf/\n",
      "WARNING: Retrying (Retry(total=1, connect=None, read=None, redirect=None, status=None)) after connection broken by 'NewConnectionError('<pip._vendor.urllib3.connection.HTTPSConnection object at 0x0000016559A05C40>: Failed to establish a new connection: [Errno 11002] getaddrinfo failed')': /simple/protobuf/\n",
      "WARNING: Retrying (Retry(total=0, connect=None, read=None, redirect=None, status=None)) after connection broken by 'NewConnectionError('<pip._vendor.urllib3.connection.HTTPSConnection object at 0x0000016559A05DF0>: Failed to establish a new connection: [Errno 11002] getaddrinfo failed')': /simple/protobuf/\n",
      "ERROR: pip's dependency resolver does not currently take into account all the packages that are installed. This behaviour is the source of the following dependency conflicts.\n",
      "streamlit 1.11.0 requires cachetools>=4.0, which is not installed.\n",
      "streamlit 1.11.0 requires watchdog; platform_system != \"Darwin\", which is not installed.\n"
     ]
    }
   ],
   "source": [
    "!pip install mysql-connector-python"
   ]
  },
  {
   "cell_type": "markdown",
   "id": "753c63a1",
   "metadata": {},
   "source": [
    "# Make Connection Python to Sql"
   ]
  },
  {
   "cell_type": "code",
   "execution_count": 3,
   "id": "714560ad",
   "metadata": {},
   "outputs": [
    {
     "data": {
      "text/plain": [
       "<mysql.connector.connection.MySQLConnection at 0x2a451400340>"
      ]
     },
     "execution_count": 3,
     "metadata": {},
     "output_type": "execute_result"
    }
   ],
   "source": [
    "connection.connect(host='localhost',user='root',passwd='Mehmaam12345',use_pure=True)"
   ]
  },
  {
   "cell_type": "code",
   "execution_count": 8,
   "id": "7af39fcd",
   "metadata": {},
   "outputs": [
    {
     "name": "stdout",
     "output_type": "stream",
     "text": [
      "[('airbnb',), ('information_schema',), ('mehmaam',), ('mysql',), ('performance_schema',), ('sys',)]\n"
     ]
    }
   ],
   "source": [
    "import mysql.connector as connection # connect python to sql\n",
    "try:\n",
    "    config={'host':'localhost','database':'Mehmaam','user':'root','passwd':'Mehmaam12345','use_pure':True}\n",
    "    conn=connection.connect(**config) # make connection to database\n",
    "    query='SHOW DATABASES' #query\n",
    "    cur=conn.cursor() # work like a pointer index-wise\n",
    "    cur.execute(query)#execute query\n",
    "    print(cur.fetchall())#fetch all data\n",
    "except Exception as e:\n",
    "    conn.close()\n",
    "    print(str(e))"
   ]
  },
  {
   "cell_type": "code",
   "execution_count": 9,
   "id": "0afeb976",
   "metadata": {},
   "outputs": [
    {
     "name": "stdout",
     "output_type": "stream",
     "text": [
      "[('airbnb',), ('information_schema',), ('mehmaam',), ('mysql',), ('performance_schema',), ('sys',)]\n"
     ]
    }
   ],
   "source": [
    "import mysql.connector as connection # connect python to sql\n",
    "try:\n",
    "    conn=connection.connect(host='localhost',database='Mehmaam',user='root',passwd='Mehmaam12345',use_pure=True) # make connection to database\n",
    "    query='SHOW DATABASES' #query\n",
    "    cur=conn.cursor() # work like a pointer index-wise\n",
    "    cur.execute(query)#execute query\n",
    "    print(cur.fetchall())#fetch all data\n",
    "except Exception as e:\n",
    "    conn.close()\n",
    "    print(str(e))"
   ]
  },
  {
   "cell_type": "markdown",
   "id": "6259efcf",
   "metadata": {},
   "source": [
    "# Create Databases"
   ]
  },
  {
   "cell_type": "code",
   "execution_count": 12,
   "id": "d8609a85",
   "metadata": {},
   "outputs": [],
   "source": [
    "cur.execute(\"create database New_Mehmaa\")"
   ]
  },
  {
   "cell_type": "markdown",
   "id": "f4d6580c",
   "metadata": {},
   "source": [
    "# Define Database"
   ]
  },
  {
   "cell_type": "code",
   "execution_count": 13,
   "id": "42c84893",
   "metadata": {},
   "outputs": [
    {
     "data": {
      "text/plain": [
       "<mysql.connector.connection.MySQLConnection at 0x2a453ed07c0>"
      ]
     },
     "execution_count": 13,
     "metadata": {},
     "output_type": "execute_result"
    }
   ],
   "source": [
    "connection.connect(host='localhost',database='Mehmaam',user='root',passwd='Mehmaam12345',use_pure=True)"
   ]
  },
  {
   "cell_type": "code",
   "execution_count": 14,
   "id": "671aad78",
   "metadata": {},
   "outputs": [
    {
     "data": {
      "text/plain": [
       "True"
      ]
     },
     "execution_count": 14,
     "metadata": {},
     "output_type": "execute_result"
    }
   ],
   "source": [
    "conn.is_connected() # database is connected or not"
   ]
  },
  {
   "cell_type": "markdown",
   "id": "636f5629",
   "metadata": {},
   "source": [
    "# Create Table"
   ]
  },
  {
   "cell_type": "code",
   "execution_count": 16,
   "id": "c66211d8",
   "metadata": {},
   "outputs": [],
   "source": [
    "cur.execute('create table test1(col1 int(5),col2 varchar(20),col3 date)')"
   ]
  },
  {
   "cell_type": "code",
   "execution_count": 17,
   "id": "6d6eaee7",
   "metadata": {},
   "outputs": [
    {
     "data": {
      "text/plain": [
       "True"
      ]
     },
     "execution_count": 17,
     "metadata": {},
     "output_type": "execute_result"
    }
   ],
   "source": [
    "cur.close()"
   ]
  },
  {
   "cell_type": "code",
   "execution_count": 18,
   "id": "1d6ae0de",
   "metadata": {},
   "outputs": [],
   "source": [
    "cur=conn.cursor()"
   ]
  },
  {
   "cell_type": "markdown",
   "id": "7baefe7d",
   "metadata": {},
   "source": [
    "# insert data"
   ]
  },
  {
   "cell_type": "code",
   "execution_count": 19,
   "id": "0de4dac8",
   "metadata": {},
   "outputs": [],
   "source": [
    "cur.execute(\"insert into test values(2020,'mehmaam','1998-01-20')\")#yyyy-mm-dd"
   ]
  },
  {
   "cell_type": "code",
   "execution_count": 20,
   "id": "a21ea564",
   "metadata": {},
   "outputs": [],
   "source": [
    "cur.execute(\"insert into test values(2021,'mehmaam2','1998-12-20')\")#yyyy-mm-dd"
   ]
  },
  {
   "cell_type": "markdown",
   "id": "cc6fbae4",
   "metadata": {},
   "source": [
    "# Commit data into database"
   ]
  },
  {
   "cell_type": "code",
   "execution_count": 21,
   "id": "368229e7",
   "metadata": {},
   "outputs": [],
   "source": [
    "conn.commit()"
   ]
  },
  {
   "cell_type": "markdown",
   "id": "b35e01f7",
   "metadata": {},
   "source": [
    "# Fetch a data from database"
   ]
  },
  {
   "cell_type": "code",
   "execution_count": 22,
   "id": "2633a4c9",
   "metadata": {},
   "outputs": [],
   "source": [
    "cur1=conn.cursor()"
   ]
  },
  {
   "cell_type": "code",
   "execution_count": 23,
   "id": "59589834",
   "metadata": {},
   "outputs": [],
   "source": [
    "cur1.execute(\"select * from test\")"
   ]
  },
  {
   "cell_type": "code",
   "execution_count": 24,
   "id": "951e77f0",
   "metadata": {},
   "outputs": [
    {
     "data": {
      "text/plain": [
       "[(2020, 'mehmaam', datetime.date(1998, 1, 20)),\n",
       " (2021, 'mehmaam2', datetime.date(1998, 12, 20)),\n",
       " (2020, 'mehmaam', datetime.date(1998, 1, 20)),\n",
       " (2020, 'mehmaam', datetime.date(1998, 1, 20)),\n",
       " (2020, 'mehmaam', datetime.date(1998, 1, 20)),\n",
       " (2020, 'mehmaam', datetime.date(1998, 1, 20)),\n",
       " (2020, 'mehmaam', datetime.date(1998, 1, 20)),\n",
       " (2020, 'mehmaam', datetime.date(1998, 1, 20)),\n",
       " (2020, 'mehmaam', datetime.date(1998, 1, 20)),\n",
       " (2020, 'mehmaam', datetime.date(1998, 1, 20)),\n",
       " (2020, 'mehmaam', datetime.date(1998, 1, 20)),\n",
       " (2020, 'mehmaam', datetime.date(1998, 1, 20)),\n",
       " (2020, 'mehmaam', datetime.date(1998, 1, 20)),\n",
       " (2020, 'mehmaam', datetime.date(1998, 1, 20)),\n",
       " (2020, 'mehmaam', datetime.date(1998, 1, 20)),\n",
       " (2021, 'mehmaam2', datetime.date(1998, 12, 20)),\n",
       " (2020, 'mehmaam', datetime.date(1998, 1, 20)),\n",
       " (2021, 'mehmaam2', datetime.date(1998, 12, 20)),\n",
       " (2020, 'mehmaam', datetime.date(1998, 1, 20)),\n",
       " (2021, 'mehmaam2', datetime.date(1998, 12, 20))]"
      ]
     },
     "execution_count": 24,
     "metadata": {},
     "output_type": "execute_result"
    }
   ],
   "source": [
    "cur1.fetchall()"
   ]
  },
  {
   "cell_type": "markdown",
   "id": "d6a7923c",
   "metadata": {},
   "source": [
    "# Tabular format with Pandas"
   ]
  },
  {
   "cell_type": "code",
   "execution_count": 25,
   "id": "999a529c",
   "metadata": {},
   "outputs": [],
   "source": [
    "import pandas as pd"
   ]
  },
  {
   "cell_type": "markdown",
   "id": "ec5f3178",
   "metadata": {},
   "source": [
    "## Read Data"
   ]
  },
  {
   "cell_type": "code",
   "execution_count": 26,
   "id": "e944192f",
   "metadata": {},
   "outputs": [
    {
     "name": "stderr",
     "output_type": "stream",
     "text": [
      "C:\\Users\\syed.mehmaam\\Anaconda3\\lib\\site-packages\\pandas\\io\\sql.py:762: UserWarning: pandas only support SQLAlchemy connectable(engine/connection) ordatabase string URI or sqlite3 DBAPI2 connectionother DBAPI2 objects are not tested, please consider using SQLAlchemy\n",
      "  warnings.warn(\n"
     ]
    }
   ],
   "source": [
    "a=pd.read_sql(\"select * from Mehmaam.test\",conn)"
   ]
  },
  {
   "cell_type": "code",
   "execution_count": 35,
   "id": "c9ff2f9c",
   "metadata": {},
   "outputs": [
    {
     "data": {
      "text/html": [
       "<div>\n",
       "<style scoped>\n",
       "    .dataframe tbody tr th:only-of-type {\n",
       "        vertical-align: middle;\n",
       "    }\n",
       "\n",
       "    .dataframe tbody tr th {\n",
       "        vertical-align: top;\n",
       "    }\n",
       "\n",
       "    .dataframe thead th {\n",
       "        text-align: right;\n",
       "    }\n",
       "</style>\n",
       "<table border=\"1\" class=\"dataframe\">\n",
       "  <thead>\n",
       "    <tr style=\"text-align: right;\">\n",
       "      <th></th>\n",
       "      <th>col1</th>\n",
       "      <th>col2</th>\n",
       "      <th>col3</th>\n",
       "    </tr>\n",
       "  </thead>\n",
       "  <tbody>\n",
       "    <tr>\n",
       "      <th>0</th>\n",
       "      <td>2020</td>\n",
       "      <td>mehmaam</td>\n",
       "      <td>1998-01-20</td>\n",
       "    </tr>\n",
       "    <tr>\n",
       "      <th>1</th>\n",
       "      <td>2021</td>\n",
       "      <td>mehmaam2</td>\n",
       "      <td>1998-12-20</td>\n",
       "    </tr>\n",
       "    <tr>\n",
       "      <th>2</th>\n",
       "      <td>2020</td>\n",
       "      <td>mehmaam</td>\n",
       "      <td>1998-01-20</td>\n",
       "    </tr>\n",
       "    <tr>\n",
       "      <th>3</th>\n",
       "      <td>2020</td>\n",
       "      <td>mehmaam</td>\n",
       "      <td>1998-01-20</td>\n",
       "    </tr>\n",
       "    <tr>\n",
       "      <th>4</th>\n",
       "      <td>2020</td>\n",
       "      <td>mehmaam</td>\n",
       "      <td>1998-01-20</td>\n",
       "    </tr>\n",
       "    <tr>\n",
       "      <th>5</th>\n",
       "      <td>2020</td>\n",
       "      <td>mehmaam</td>\n",
       "      <td>1998-01-20</td>\n",
       "    </tr>\n",
       "    <tr>\n",
       "      <th>6</th>\n",
       "      <td>2020</td>\n",
       "      <td>mehmaam</td>\n",
       "      <td>1998-01-20</td>\n",
       "    </tr>\n",
       "    <tr>\n",
       "      <th>7</th>\n",
       "      <td>2020</td>\n",
       "      <td>mehmaam</td>\n",
       "      <td>1998-01-20</td>\n",
       "    </tr>\n",
       "    <tr>\n",
       "      <th>8</th>\n",
       "      <td>2020</td>\n",
       "      <td>mehmaam</td>\n",
       "      <td>1998-01-20</td>\n",
       "    </tr>\n",
       "    <tr>\n",
       "      <th>9</th>\n",
       "      <td>2020</td>\n",
       "      <td>mehmaam</td>\n",
       "      <td>1998-01-20</td>\n",
       "    </tr>\n",
       "    <tr>\n",
       "      <th>10</th>\n",
       "      <td>2020</td>\n",
       "      <td>mehmaam</td>\n",
       "      <td>1998-01-20</td>\n",
       "    </tr>\n",
       "    <tr>\n",
       "      <th>11</th>\n",
       "      <td>2020</td>\n",
       "      <td>mehmaam</td>\n",
       "      <td>1998-01-20</td>\n",
       "    </tr>\n",
       "    <tr>\n",
       "      <th>12</th>\n",
       "      <td>2020</td>\n",
       "      <td>mehmaam</td>\n",
       "      <td>1998-01-20</td>\n",
       "    </tr>\n",
       "    <tr>\n",
       "      <th>13</th>\n",
       "      <td>2020</td>\n",
       "      <td>mehmaam</td>\n",
       "      <td>1998-01-20</td>\n",
       "    </tr>\n",
       "    <tr>\n",
       "      <th>14</th>\n",
       "      <td>2020</td>\n",
       "      <td>mehmaam</td>\n",
       "      <td>1998-01-20</td>\n",
       "    </tr>\n",
       "    <tr>\n",
       "      <th>15</th>\n",
       "      <td>2021</td>\n",
       "      <td>mehmaam2</td>\n",
       "      <td>1998-12-20</td>\n",
       "    </tr>\n",
       "    <tr>\n",
       "      <th>16</th>\n",
       "      <td>2020</td>\n",
       "      <td>mehmaam</td>\n",
       "      <td>1998-01-20</td>\n",
       "    </tr>\n",
       "    <tr>\n",
       "      <th>17</th>\n",
       "      <td>2021</td>\n",
       "      <td>mehmaam2</td>\n",
       "      <td>1998-12-20</td>\n",
       "    </tr>\n",
       "    <tr>\n",
       "      <th>18</th>\n",
       "      <td>2020</td>\n",
       "      <td>mehmaam</td>\n",
       "      <td>1998-01-20</td>\n",
       "    </tr>\n",
       "    <tr>\n",
       "      <th>19</th>\n",
       "      <td>2021</td>\n",
       "      <td>mehmaam2</td>\n",
       "      <td>1998-12-20</td>\n",
       "    </tr>\n",
       "  </tbody>\n",
       "</table>\n",
       "</div>"
      ],
      "text/plain": [
       "    col1      col2        col3\n",
       "0   2020   mehmaam  1998-01-20\n",
       "1   2021  mehmaam2  1998-12-20\n",
       "2   2020   mehmaam  1998-01-20\n",
       "3   2020   mehmaam  1998-01-20\n",
       "4   2020   mehmaam  1998-01-20\n",
       "5   2020   mehmaam  1998-01-20\n",
       "6   2020   mehmaam  1998-01-20\n",
       "7   2020   mehmaam  1998-01-20\n",
       "8   2020   mehmaam  1998-01-20\n",
       "9   2020   mehmaam  1998-01-20\n",
       "10  2020   mehmaam  1998-01-20\n",
       "11  2020   mehmaam  1998-01-20\n",
       "12  2020   mehmaam  1998-01-20\n",
       "13  2020   mehmaam  1998-01-20\n",
       "14  2020   mehmaam  1998-01-20\n",
       "15  2021  mehmaam2  1998-12-20\n",
       "16  2020   mehmaam  1998-01-20\n",
       "17  2021  mehmaam2  1998-12-20\n",
       "18  2020   mehmaam  1998-01-20\n",
       "19  2021  mehmaam2  1998-12-20"
      ]
     },
     "execution_count": 35,
     "metadata": {},
     "output_type": "execute_result"
    }
   ],
   "source": [
    "a"
   ]
  },
  {
   "cell_type": "code",
   "execution_count": 28,
   "id": "febbe84c",
   "metadata": {},
   "outputs": [],
   "source": [
    "a.to_csv(\"sql_data.csv\")"
   ]
  },
  {
   "cell_type": "code",
   "execution_count": 29,
   "id": "6587b5fe",
   "metadata": {},
   "outputs": [],
   "source": [
    "cur=conn.cursor()"
   ]
  },
  {
   "cell_type": "code",
   "execution_count": 30,
   "id": "b86f2add",
   "metadata": {},
   "outputs": [],
   "source": [
    "data=pd.read_csv(\"sql_data.csv\")"
   ]
  },
  {
   "cell_type": "markdown",
   "id": "a8ce227c",
   "metadata": {},
   "source": [
    "# Delete Record"
   ]
  },
  {
   "cell_type": "code",
   "execution_count": 34,
   "id": "04174a8f",
   "metadata": {},
   "outputs": [],
   "source": [
    "cur.execute('Delete from test where col1=2020;')"
   ]
  },
  {
   "cell_type": "code",
   "execution_count": 36,
   "id": "07ceeb53",
   "metadata": {},
   "outputs": [],
   "source": [
    "conn.commit()"
   ]
  },
  {
   "cell_type": "markdown",
   "id": "9b0f5964",
   "metadata": {},
   "source": [
    "# Update Record"
   ]
  },
  {
   "cell_type": "code",
   "execution_count": 39,
   "id": "17551178",
   "metadata": {},
   "outputs": [],
   "source": [
    "cur.execute(\"Update test set col1=2022, col2='Mehmaam Bhai', col3='1999-05-28';\")"
   ]
  },
  {
   "cell_type": "code",
   "execution_count": 40,
   "id": "b1d99cbf",
   "metadata": {},
   "outputs": [],
   "source": [
    "conn.commit()"
   ]
  },
  {
   "cell_type": "code",
   "execution_count": null,
   "id": "aa9a7425",
   "metadata": {},
   "outputs": [],
   "source": [
    "# SQL"
   ]
  }
 ],
 "metadata": {
  "kernelspec": {
   "display_name": "Python 3 (ipykernel)",
   "language": "python",
   "name": "python3"
  },
  "language_info": {
   "codemirror_mode": {
    "name": "ipython",
    "version": 3
   },
   "file_extension": ".py",
   "mimetype": "text/x-python",
   "name": "python",
   "nbconvert_exporter": "python",
   "pygments_lexer": "ipython3",
   "version": "3.9.13"
  }
 },
 "nbformat": 4,
 "nbformat_minor": 5
}

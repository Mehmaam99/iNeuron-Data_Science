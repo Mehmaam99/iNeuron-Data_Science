{
 "cells": [
  {
   "cell_type": "code",
   "execution_count": 1,
   "id": "ffc8eacb",
   "metadata": {},
   "outputs": [],
   "source": [
    "import logging as lg"
   ]
  },
  {
   "cell_type": "code",
   "execution_count": 2,
   "id": "4f93574d",
   "metadata": {},
   "outputs": [
    {
     "data": {
      "text/plain": [
       "'C:\\\\Users\\\\syed.mehmaam\\\\iNeuron-Python'"
      ]
     },
     "execution_count": 2,
     "metadata": {},
     "output_type": "execute_result"
    }
   ],
   "source": [
    "pwd"
   ]
  },
  {
   "cell_type": "code",
   "execution_count": 3,
   "id": "f0a226bd",
   "metadata": {},
   "outputs": [],
   "source": [
    "lg.basicConfig(filename='test.log',level=lg.INFO,format=\"%(asctime)s %(message)s\")"
   ]
  },
  {
   "cell_type": "code",
   "execution_count": 4,
   "id": "3b477088",
   "metadata": {},
   "outputs": [],
   "source": [
    "lg.info('I am a Programmer.')"
   ]
  },
  {
   "cell_type": "code",
   "execution_count": 5,
   "id": "45f686bc",
   "metadata": {},
   "outputs": [],
   "source": [
    "lg.warning(\"this a first warning of my program to modified\")"
   ]
  },
  {
   "cell_type": "code",
   "execution_count": 6,
   "id": "7b90232c",
   "metadata": {},
   "outputs": [],
   "source": [
    "lg.error('this message for error.')"
   ]
  },
  {
   "cell_type": "code",
   "execution_count": 7,
   "id": "40fa7a03",
   "metadata": {},
   "outputs": [],
   "source": [
    "import logging \n",
    "logging.basicConfig(filename='stream_handler_test.log',level=logging.DEBUG,format='%(asctime)s %(levelname)s %(message)s')"
   ]
  },
  {
   "cell_type": "code",
   "execution_count": 8,
   "id": "9b3a8b1b",
   "metadata": {},
   "outputs": [],
   "source": [
    "console_log=logging.StreamHandler()\n",
    "console_log.setLevel(logging.INFO)"
   ]
  },
  {
   "cell_type": "code",
   "execution_count": 9,
   "id": "3d4b7ed3",
   "metadata": {},
   "outputs": [],
   "source": [
    "format='%(asctime)s %(levelname)s %(message)s'"
   ]
  },
  {
   "cell_type": "code",
   "execution_count": 10,
   "id": "629427ef",
   "metadata": {},
   "outputs": [],
   "source": [
    "console_log.setFormatter(format)"
   ]
  },
  {
   "cell_type": "code",
   "execution_count": 11,
   "id": "c7ef8710",
   "metadata": {},
   "outputs": [],
   "source": [
    "logging.getLogger('').addHandler(console_log)"
   ]
  },
  {
   "cell_type": "code",
   "execution_count": 12,
   "id": "aad7a2b4",
   "metadata": {},
   "outputs": [
    {
     "name": "stderr",
     "output_type": "stream",
     "text": [
      "%(asctime)s %(levelname)s %(message)s\n"
     ]
    }
   ],
   "source": [
    "logging.info('this is my code')"
   ]
  },
  {
   "cell_type": "code",
   "execution_count": 13,
   "id": "7cf0faa1",
   "metadata": {},
   "outputs": [],
   "source": [
    "logger1=logging.getLogger('logger1.area1')\n",
    "logger2=logging.getLogger('logger2.area2')"
   ]
  },
  {
   "cell_type": "code",
   "execution_count": 14,
   "id": "113f9b56",
   "metadata": {},
   "outputs": [
    {
     "name": "stderr",
     "output_type": "stream",
     "text": [
      "%(asctime)s %(levelname)s %(message)s\n",
      "%(asctime)s %(levelname)s %(message)s\n"
     ]
    }
   ],
   "source": [
    "logger1.info('this is logger 1')\n",
    "logger2.debug('this is logger 2')\n",
    "logger2.info('this is logger 2 info')"
   ]
  },
  {
   "cell_type": "code",
   "execution_count": null,
   "id": "a0627e8c",
   "metadata": {},
   "outputs": [],
   "source": []
  }
 ],
 "metadata": {
  "kernelspec": {
   "display_name": "Python 3 (ipykernel)",
   "language": "python",
   "name": "python3"
  },
  "language_info": {
   "codemirror_mode": {
    "name": "ipython",
    "version": 3
   },
   "file_extension": ".py",
   "mimetype": "text/x-python",
   "name": "python",
   "nbconvert_exporter": "python",
   "pygments_lexer": "ipython3",
   "version": "3.9.12"
  }
 },
 "nbformat": 4,
 "nbformat_minor": 5
}

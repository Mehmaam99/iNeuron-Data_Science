{
 "cells": [
  {
   "cell_type": "markdown",
   "id": "c3280751",
   "metadata": {},
   "source": [
    "### 1. What is Class? \n",
    "Classification of real world entity. \\\n",
    "e.g. Car,Animal,Laptop.\n",
    "    \n",
    "### 2. What is Object?\n",
    "Object is a variable of  classes. \\\n",
    "real time representation of a Class.\n"
   ]
  },
  {
   "cell_type": "code",
   "execution_count": 1,
   "id": "ba80afe2",
   "metadata": {},
   "outputs": [],
   "source": [
    "class car:\n",
    "    pass"
   ]
  },
  {
   "cell_type": "code",
   "execution_count": 2,
   "id": "408a08f6",
   "metadata": {},
   "outputs": [],
   "source": [
    "audi=car()"
   ]
  },
  {
   "cell_type": "code",
   "execution_count": 3,
   "id": "d8d526a3",
   "metadata": {},
   "outputs": [
    {
     "data": {
      "text/plain": [
       "<__main__.car at 0x299b2b8ff10>"
      ]
     },
     "execution_count": 3,
     "metadata": {},
     "output_type": "execute_result"
    }
   ],
   "source": [
    "# variable or object of car class\n",
    "audi"
   ]
  },
  {
   "cell_type": "code",
   "execution_count": 4,
   "id": "fe2c42ba",
   "metadata": {},
   "outputs": [],
   "source": [
    "audi.mileage=10\n",
    "audi.year=2022\n",
    "audi.make=123\n",
    "audi.model=\"city\""
   ]
  },
  {
   "cell_type": "code",
   "execution_count": 5,
   "id": "3f867766",
   "metadata": {},
   "outputs": [
    {
     "data": {
      "text/plain": [
       "10"
      ]
     },
     "execution_count": 5,
     "metadata": {},
     "output_type": "execute_result"
    }
   ],
   "source": [
    "audi.mileage"
   ]
  },
  {
   "cell_type": "code",
   "execution_count": 6,
   "id": "a9c635a2",
   "metadata": {},
   "outputs": [],
   "source": [
    "nano=car()"
   ]
  },
  {
   "cell_type": "code",
   "execution_count": 8,
   "id": "571a4abf",
   "metadata": {},
   "outputs": [],
   "source": [
    "nano.mileage=15\n",
    "nano.year=2021\n",
    "nano.make=1234\n",
    "nano.model=\"CT\"\n",
    "nano.engine_no=1321654875458746"
   ]
  },
  {
   "cell_type": "code",
   "execution_count": 31,
   "id": "6946e581",
   "metadata": {},
   "outputs": [],
   "source": [
    "class car1: # self is class variable, its a pointer to itself\n",
    "    def __init__(a, mileage,year,make,model):# use initialization of data inbuilt function - provide a data to a class\n",
    "        a.mileage=mileage \n",
    "        a.year=year\n",
    "        a.make=make\n",
    "        a.model=model\n",
    "    def  age(self,current_year):\n",
    "        return current_year - self.year\n",
    "    def display_mileage(self):\n",
    "        print(\" Mileage is : \",self.mileage)\n",
    "    \n",
    "    def __str__(c):\n",
    "        return \"This is a car class, I have created\"\n",
    "        "
   ]
  },
  {
   "cell_type": "code",
   "execution_count": null,
   "id": "8d463705",
   "metadata": {},
   "outputs": [],
   "source": []
  },
  {
   "cell_type": "code",
   "execution_count": 32,
   "id": "d02c455d",
   "metadata": {},
   "outputs": [],
   "source": [
    "nano1=car1(10,2022,354,\"asdf\")"
   ]
  },
  {
   "cell_type": "code",
   "execution_count": 33,
   "id": "5086c288",
   "metadata": {},
   "outputs": [
    {
     "data": {
      "text/plain": [
       "3"
      ]
     },
     "execution_count": 33,
     "metadata": {},
     "output_type": "execute_result"
    }
   ],
   "source": [
    "nano1.age(2025)"
   ]
  },
  {
   "cell_type": "code",
   "execution_count": 34,
   "id": "5f4eb383",
   "metadata": {},
   "outputs": [
    {
     "name": "stdout",
     "output_type": "stream",
     "text": [
      " Mileage is :  10\n"
     ]
    }
   ],
   "source": [
    "nano1.display_mileage()"
   ]
  },
  {
   "cell_type": "code",
   "execution_count": 35,
   "id": "c553ab7a",
   "metadata": {},
   "outputs": [
    {
     "name": "stdout",
     "output_type": "stream",
     "text": [
      "This is a car class, I have created\n"
     ]
    }
   ],
   "source": [
    "print(nano1)"
   ]
  },
  {
   "cell_type": "code",
   "execution_count": 92,
   "id": "a5edb66a",
   "metadata": {},
   "outputs": [],
   "source": [
    "class student:\n",
    "    \n",
    "    def __init__(self , name , rollno , joining_date , current_topic):\n",
    "        self.name = name \n",
    "        self.rollno = rollno\n",
    "        self.joining_date =  joining_date\n",
    "        self.current_topic = current_topic\n",
    "        \n",
    "        \n",
    "    def name_Parsing(self) :\n",
    "\n",
    "        if type(self.name) == list:\n",
    "            for i in self.name :\n",
    "                print(\"name of the stuent \" , i )\n",
    "        else : \n",
    "            print(\"provided name is not in a form of list \")\n",
    "    \n",
    "        \n",
    "    def crt_topic(self):\n",
    "        print(\"current topic discussed in my class is \" , self.current_topic)\n",
    "        \n",
    "    def str_rollno(self):\n",
    "        \n",
    "        try :\n",
    "        \n",
    "            if type(self.rollno) == str:\n",
    "                print(\"do nothing \")\n",
    "\n",
    "            else :\n",
    "                return str(self.rollno)\n",
    "        except Exception as e  :\n",
    "            \n",
    "            print(\"this is my erro msg \" , e )\n",
    "        \n",
    "        \n",
    "    def duration(self,current_date) :\n",
    "        \n",
    "        print(\"duration of student in my class is \" , current_date- self.joining_date)\n",
    "        \n",
    "    def __str__(self):\n",
    "        \n",
    "        \n",
    "        return \"this is student profile class \""
   ]
  },
  {
   "cell_type": "code",
   "execution_count": 93,
   "id": "155b0cef",
   "metadata": {},
   "outputs": [],
   "source": [
    "student1 = student(\"Mehmaam\" ,\"155\", 2022,\"OOPS\")"
   ]
  },
  {
   "cell_type": "code",
   "execution_count": 94,
   "id": "ba3a64ae",
   "metadata": {},
   "outputs": [
    {
     "name": "stdout",
     "output_type": "stream",
     "text": [
      "current topic discussed in my class is  OOPS\n"
     ]
    }
   ],
   "source": [
    "student1.crt_topic()"
   ]
  },
  {
   "cell_type": "code",
   "execution_count": 95,
   "id": "1b9b2368",
   "metadata": {},
   "outputs": [
    {
     "data": {
      "text/plain": [
       "'OOPS'"
      ]
     },
     "execution_count": 95,
     "metadata": {},
     "output_type": "execute_result"
    }
   ],
   "source": [
    "student1.current_topic"
   ]
  },
  {
   "cell_type": "code",
   "execution_count": 96,
   "id": "3b2f1ea9",
   "metadata": {},
   "outputs": [
    {
     "name": "stdout",
     "output_type": "stream",
     "text": [
      "duration of student in my class is  0\n"
     ]
    }
   ],
   "source": [
    "student1.duration(2022)"
   ]
  },
  {
   "cell_type": "code",
   "execution_count": 97,
   "id": "e23d68ab",
   "metadata": {},
   "outputs": [
    {
     "name": "stdout",
     "output_type": "stream",
     "text": [
      "do nothing \n"
     ]
    }
   ],
   "source": [
    "student1.str_rollno()"
   ]
  },
  {
   "cell_type": "code",
   "execution_count": 98,
   "id": "ec11242f",
   "metadata": {},
   "outputs": [
    {
     "name": "stdout",
     "output_type": "stream",
     "text": [
      "this is student profile class \n"
     ]
    }
   ],
   "source": [
    "print(student1)"
   ]
  },
  {
   "cell_type": "code",
   "execution_count": 70,
   "id": "d15bf0ec",
   "metadata": {},
   "outputs": [],
   "source": [
    "pawan = student([\"naveen\",\"jay\" , \"himnashu \" , \"prakash \" ] ,[234,2423,423,34,234], 2021 , \"oops\" )"
   ]
  },
  {
   "cell_type": "code",
   "execution_count": 71,
   "id": "f5daf4ff",
   "metadata": {},
   "outputs": [
    {
     "name": "stdout",
     "output_type": "stream",
     "text": [
      "name of the stuent  naveen\n",
      "name of the stuent  jay\n",
      "name of the stuent  himnashu \n",
      "name of the stuent  prakash \n"
     ]
    }
   ],
   "source": [
    "pawan.name_Parsing()"
   ]
  },
  {
   "cell_type": "code",
   "execution_count": 21,
   "id": "3eafedea",
   "metadata": {},
   "outputs": [],
   "source": [
    "class test:\n",
    "    def a(self):\n",
    "        print(\"this is test\")"
   ]
  },
  {
   "cell_type": "code",
   "execution_count": 22,
   "id": "58eaf40c",
   "metadata": {},
   "outputs": [],
   "source": [
    "class test1:\n",
    "    def a(self):\n",
    "        print(\"this is test1\")\n",
    "        "
   ]
  },
  {
   "cell_type": "code",
   "execution_count": 24,
   "id": "f680147d",
   "metadata": {},
   "outputs": [
    {
     "name": "stdout",
     "output_type": "stream",
     "text": [
      "this is test\n",
      "this is test1\n",
      "test2\n",
      "this is test\n"
     ]
    }
   ],
   "source": [
    "class test2(test,test1):\n",
    "    t=test()\n",
    "    t.a()\n",
    "    t1=test1()\n",
    "    t1.a()\n",
    "    print(\"test2\")\n",
    "t2=test()\n",
    "t2.a()\n",
    "    \n",
    "    "
   ]
  },
  {
   "cell_type": "code",
   "execution_count": 24,
   "id": "f1e69d67",
   "metadata": {},
   "outputs": [
    {
     "name": "stdout",
     "output_type": "stream",
     "text": [
      "[   0    1    2 ... 6207 6208 6209]\n",
      "shape arr (6210,)\n",
      "shape newarr (1035, 6)\n"
     ]
    }
   ],
   "source": [
    "import numpy as np\n",
    "\n",
    "arr = np.arange(6210)\n",
    "newarr = arr.reshape(-1)\n",
    "print(newarr)\n",
    "print('shape arr',arr.shape)\n",
    "newarr = arr.reshape(1035, 6)\n",
    "print('shape newarr',newarr.shape)"
   ]
  },
  {
   "cell_type": "code",
   "execution_count": 22,
   "id": "c1334941",
   "metadata": {},
   "outputs": [],
   "source": []
  },
  {
   "cell_type": "code",
   "execution_count": 23,
   "id": "5572211d",
   "metadata": {},
   "outputs": [
    {
     "data": {
      "text/plain": [
       "(1035, 6)"
      ]
     },
     "execution_count": 23,
     "metadata": {},
     "output_type": "execute_result"
    }
   ],
   "source": []
  },
  {
   "cell_type": "code",
   "execution_count": 1,
   "id": "42b405bd",
   "metadata": {},
   "outputs": [],
   "source": [
    "class Car:\n",
    "    pass"
   ]
  },
  {
   "cell_type": "code",
   "execution_count": null,
   "id": "1407cf0d",
   "metadata": {},
   "outputs": [],
   "source": []
  },
  {
   "cell_type": "code",
   "execution_count": 2,
   "id": "0ef5d7c3",
   "metadata": {},
   "outputs": [],
   "source": [
    "obj1=Car()"
   ]
  },
  {
   "cell_type": "code",
   "execution_count": 3,
   "id": "aa59d488",
   "metadata": {},
   "outputs": [
    {
     "name": "stdout",
     "output_type": "stream",
     "text": [
      "<__main__.Car object at 0x0000022CFC513DC0>\n"
     ]
    }
   ],
   "source": [
    "print(obj1)"
   ]
  }
 ],
 "metadata": {
  "kernelspec": {
   "display_name": "Python 3 (ipykernel)",
   "language": "python",
   "name": "python3"
  },
  "language_info": {
   "codemirror_mode": {
    "name": "ipython",
    "version": 3
   },
   "file_extension": ".py",
   "mimetype": "text/x-python",
   "name": "python",
   "nbconvert_exporter": "python",
   "pygments_lexer": "ipython3",
   "version": "3.9.13"
  }
 },
 "nbformat": 4,
 "nbformat_minor": 5
}
